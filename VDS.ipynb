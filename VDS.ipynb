{
  "nbformat": 4,
  "nbformat_minor": 0,
  "metadata": {
    "colab": {
      "name": "VDS.ipynb",
      "provenance": [],
      "authorship_tag": "ABX9TyOIN8DsIPUaNQCt3L/YySyN",
      "include_colab_link": true
    },
    "kernelspec": {
      "display_name": "Python 3",
      "name": "python3"
    }
  },
  "cells": [
    {
      "cell_type": "markdown",
      "metadata": {
        "id": "view-in-github",
        "colab_type": "text"
      },
      "source": [
        "<a href=\"https://colab.research.google.com/github/WDoughty/GAML/blob/main/VDS.ipynb\" target=\"_parent\"><img src=\"https://colab.research.google.com/assets/colab-badge.svg\" alt=\"Open In Colab\"/></a>"
      ]
    },
    {
      "cell_type": "code",
      "metadata": {
        "id": "-T0iurk_Str7"
      },
      "source": [
        "import tensorflow as tf\n",
        "from tensorflow import keras\n",
        "from keras import layers\n",
        "from keras.models import Sequential\n",
        "from keras.layers import Convolution2D, MaxPooling2D, Dense, Dropout, Activation, Flatten, Conv2D\n",
        "import random\n",
        "import numpy as np\n",
        "import matplotlib.pyplot as plt\n",
        "import os"
      ],
      "execution_count": 4,
      "outputs": []
    },
    {
      "cell_type": "code",
      "metadata": {
        "id": "rLzazx3kHXVc"
      },
      "source": [
        "x_path = '/content/X_range_0eigenV_1000windows_air_soil.npy'\n",
        "y_path = '/content/Y_classfication_0eigen_1000windows_air_soil.npy'\n",
        "\n",
        "x = np.load(x_path)\n",
        "y = np.load(y_path)"
      ],
      "execution_count": 5,
      "outputs": []
    },
    {
      "cell_type": "code",
      "metadata": {
        "id": "zhtRu0vSmid5"
      },
      "source": [
        "# Spltting the x and y data into different sets\n",
        "from sklearn.model_selection import train_test_split\n",
        "data_train, data_test, labels_train, labels_test = train_test_split(x,y,test_size=.20, random_state=23)"
      ],
      "execution_count": 6,
      "outputs": []
    },
    {
      "cell_type": "code",
      "metadata": {
        "id": "LU2lUu8EW0OZ"
      },
      "source": [
        "#Create a directory where the model and modeldata text file will be saved\n",
        "if not os.path.exists(\"modelData\"):\n",
        "  os.mkdir(\"modelData\")"
      ],
      "execution_count": 7,
      "outputs": []
    },
    {
      "cell_type": "code",
      "metadata": {
        "id": "1BSZwy7HW0gM"
      },
      "source": [
        "BATCH_SIZE = [4,4,8,8]\n",
        "#BATCH_SIZE = [4,8,16,32]\n",
        "#monitor= tf.keras.callbacks.EarlyStopping(monitor='loss', mode='max', verbose=1, patience=2)\n",
        "monitor= tf.keras.callbacks.EarlyStopping(monitor='val_loss', mode='max', verbose=1, patience=2)\n",
        "checkpointer=tf.keras.callbacks.ModelCheckpoint(filepath=\"modelData/model.hdf5\",verbose=1,save_best_only=True)\n",
        "VAL_LOSS_DATA = list()\n",
        "GACallbacks = [monitor, checkpointer]\n",
        "num_classes = 2"
      ],
      "execution_count": 8,
      "outputs": []
    },
    {
      "cell_type": "code",
      "metadata": {
        "id": "gc65JtRWW0mM"
      },
      "source": [
        "class DNA:\n",
        "  def __init__(self,filters,bt_size):\n",
        "    self.filters = filters\n",
        "    self.num_layers = len(self.filters)\n",
        "    self.bt_size = bt_size\n",
        "    \n",
        "    \n",
        "    self.layers_DNA = [*(self.encode(self.num_layers - 1,'02b'))]\n",
        "    self.bt_DNA = [*(self.encode(self.bt_size,'02b'))]\n",
        "    self.filters_DNA = list()\n",
        "    for i in range(0, len(self.filters)):\n",
        "      if self.filters[i] == 0:\n",
        "        self.filters[i] = 1\n",
        "      self.filters_DNA.append([*(self.encode(self.filters[i] - 1,'06b'))])\n",
        "\n",
        "    \n",
        "    self.model = self.build_model()\n",
        "    self.history =  self.model.fit(\n",
        "        data_train,\n",
        "        labels_train,\n",
        "        epochs = 100,\n",
        "        batch_size = BATCH_SIZE[self.bt_size],\n",
        "        callbacks= GACallbacks,\n",
        "        validation_split = 0.1 )\n",
        "    self.metrics = self.history.history['val_loss']\n",
        "    #self.metrics = self.history.history['loss']\n",
        "    self.metrics.sort()\n",
        "    self.fitness = self.metrics[0]\n",
        "\n",
        "  def build_model(self):\n",
        "    self.m1 = tf.keras.Sequential()\n",
        "    \n",
        "    self.m1.add(layers.Conv2D(self.filters[0], (3,3), activation='relu'))\n",
        "    self.m1.add(layers.MaxPooling2D(pool_size=(2,2),padding='same'))\n",
        "    self.m1.add(layers.Dropout(rate=0.4)) \n",
        "    for i in range(1,self.num_layers):\n",
        "      self.m1.add(layers.Conv2D(self.filters[i], (3,3), activation='relu'))\n",
        "      self.m1.add(layers.MaxPooling2D(pool_size=(2,2), padding='same'))\n",
        "      self.m1.add(layers.Dropout(rate=0.4)) \n",
        "\n",
        "    self.m1.add(layers.Flatten())\n",
        "    #512 uses to much memory even with dropout\n",
        "    #self.m1.add(layers.Dense(512,activation='relu'))\n",
        "    self.m1.add(layers.Dense(64,activation='relu'))\n",
        "    self.m1.add(layers.Dense(num_classes,activation = 'softmax'))                      \n",
        "   \n",
        "    self.m1.compile(loss='binary_crossentropy',optimizer='adam',metrics='accuracy')\n",
        "    return self.m1\n",
        "\n",
        "  def encode(self,n,bit):\n",
        "    return format(n,bit)\n",
        "\n",
        "  def decode(self,binary):\n",
        "    return int(binary,2)\n",
        "  \n",
        "  def update_filters(self):\n",
        "    self.filters.clear()\n",
        "    for i in range(0,len(self.filters_DNA)):\n",
        "      self.filters.append(self.decode(bin(int(''.join(map(str,self.filters_DNA[i])),2))) + 1)\n",
        "\n",
        "  def update_filters_DNA(self):\n",
        "    self.filters_DNA.clear()\n",
        "    for i in range(0,self.num_layers):\n",
        "      self.filters_DNA.append([*(self.encode(self.filters[i] - 1,'06b'))])\n",
        "    \n",
        "\n",
        "  def update_batch(self):\n",
        "    self.bt_size = int(''.join(map(str,self.bt_DNA)))\n",
        "\n",
        "  def update_layers(self):\n",
        "    self.num_layers = int(''.join(map(str,self.layers_DNA)),2) + 1\n",
        "\n",
        "  def update(self):\n",
        "    self.update_layers\n",
        "    self.update_batch\n",
        "    self.update_filters\n",
        "    self.update_filters_DNA\n",
        "\n",
        "  def update_num_layers_filters(self):\n",
        "    while self.num_layers > len(self.filters) and self.num_layers <=4 and self.num_layers >=1:\n",
        "      self.filters.append(random.randint(1,64))\n",
        "    self.update_filters_DNA()\n",
        "\n",
        "    if self.num_layers < len(self.filters):\n",
        "      self.num_layers = len(self.filters)\n",
        "      self.update_layers()\n",
        "    "
      ],
      "execution_count": 9,
      "outputs": []
    },
    {
      "cell_type": "code",
      "metadata": {
        "id": "wHPk3oQ3W0rE"
      },
      "source": [
        "class Population:\n",
        "  def __init__(self,size):\n",
        "    self.fittest =0\n",
        "    self.DNA_Array = []\n",
        "    self.population_size = size\n",
        "    self.build_population(self.population_size)\n",
        "\n",
        "  def build_population(self,size):\n",
        "    for i in range(0,size):\n",
        "      num_layers = random.randint(1,4)\n",
        "      filters = list()\n",
        "      bt_size = random.randint(0,3)\n",
        "      for j in range(0,num_layers):\n",
        "        filters.append(random.randint(1,64))\n",
        "      self.DNA_Array.append(DNA(filters,bt_size))\n",
        "  \n",
        "  def get_fittest(self):\n",
        "    max_fit = self.DNA_Array[0].fitness\n",
        "    max_fit_i = 0\n",
        "    for i in range(0, len(self.DNA_Array)):\n",
        "      if max_fit >= self.DNA_Array[i].fitness:\n",
        "        max_fit = self.DNA_Array[i].fitness\n",
        "        max_fit_i = i\n",
        "    self.fittest = self.DNA_Array[max_fit_i].fitness\n",
        "    return self.DNA_Array[max_fit_i]"
      ],
      "execution_count": 10,
      "outputs": []
    },
    {
      "cell_type": "code",
      "metadata": {
        "id": "Z3N2Ti7SW0i2"
      },
      "source": [
        "class GeneticAlgorithm:\n",
        "\n",
        "  def __init__(self,size,num_generations):\n",
        "    self.generation_count =0\n",
        "    self.population = Population(size)\n",
        "    self.fittest = self.population.get_fittest()\n",
        "    self.write_to_file()\n",
        "    VAL_LOSS_DATA.append(self.fittest.fitness)\n",
        "\n",
        "    while self.generation_count<num_generations:\n",
        "      new_pool = list()\n",
        "      self.generation_count+=1\n",
        "      new_pool.clear()\n",
        "      new_pool.append(DNA(self.fittest.filters,self.fittest.bt_size))\n",
        "\n",
        "      for i in range(0, self.population.population_size):\n",
        "        partner_a = random.randint(0,self.population.population_size - 1)\n",
        "        partner_b = random.randint(0,self.population.population_size - 1)  \n",
        "        while partner_a == partner_b:\n",
        "          partner_b = random.randint(0,self.population.population_size - 1)\n",
        "        child = self.crossover(self.population.DNA_Array[partner_a], self.population.DNA_Array[partner_b])\n",
        "        # mutate_rate = random.randint(0,100)\n",
        "        # if mutate_rate < 5:\n",
        "        #    child = self.mutate(child)\n",
        "        new_pool.append(child)\n",
        "      self.population.DNA_Array.clear()\n",
        "      self.population.DNA_Array.extend(new_pool) \n",
        "      self.fittest = self.population.get_fittest()\n",
        "      VAL_LOSS_DATA.append(self.fittest.fitness)\n",
        "      self.write_to_file()\n",
        "\n",
        "  def crossover(self,partner_a,partner_b):\n",
        "    temp_a = DNA(partner_a.filters,partner_a.bt_size)\n",
        "    temp_b = DNA(partner_b.filters,partner_b.bt_size)\n",
        "\n",
        "    crossover_points_filter = list()\n",
        "\n",
        "\n",
        "    s = temp_a.num_layers if temp_a.num_layers < temp_b.num_layers else temp_b.num_layers\n",
        "    for i in range(0,s):\n",
        "      p1 = random.randint(0,4)\n",
        "      p2 = random.randint(p1,5)\n",
        "      for j in range(p1, p2):\n",
        "        temp_a.filters_DNA[i][j] = partner_b.filters_DNA[i][j]\n",
        "        temp_b.filters_DNA[i][j] = partner_a.filters_DNA[i][j]\n",
        "    temp_a.update_filters()\n",
        "    temp_b.update_filters()\n",
        "\n",
        "\n",
        "    layer_crossover = random.randint(0,1) # this needs to be changed to the number of bits in the layer\n",
        "    t = temp_a.layers_DNA[layer_crossover]\n",
        "    temp_a.layers_DNA[layer_crossover] = temp_b.layers_DNA[layer_crossover]\n",
        "    temp_b.layers_DNA[layer_crossover] = t\n",
        "    temp_a.update_layers()\n",
        "    temp_b.update_layers()\n",
        "    temp_a.update_num_layers_filters\n",
        "    temp_b.update_num_layers_filters\n",
        "\n",
        "\n",
        "\n",
        "\n",
        "    batch_crossover = random.randint(0,1)\n",
        "    t = temp_a.bt_DNA[batch_crossover]\n",
        "    temp_a.bt_DNA[batch_crossover] = temp_b.bt_DNA[batch_crossover]\n",
        "    temp_b.bt_DNA[batch_crossover] = t\n",
        "\n",
        "\n",
        "    temp_a.update()\n",
        "    temp_b.update() \n",
        "\n",
        "    c1 = DNA(temp_a.filters,temp_a.bt_size)\n",
        "    c2 = DNA(temp_b.filters,temp_b.bt_size)\n",
        "    return c1 if c1.fitness < c2.fitness  else c2\n",
        "\n",
        "\n",
        "  def write_to_file(self):\n",
        "    f = open(\"modelData/data.txt\",\"a\")\n",
        "    s = \"Generation count: {gen}\\n\" .format(gen = self.generation_count)\n",
        "    s = s + \"Number of Layers: {layers}\\n\" .format(layers = self.fittest.num_layers)\n",
        "    for j in range(0,self.fittest.num_layers):\n",
        "      s = s + \"Layer #: {layer} \\t Number of filters: {filters} \\n\" .format(layer = j+1, filters = self.fittest.filters[j])\n",
        "    s = s + \"Fitness: {fitness}\\n\" .format(fitness = self.fittest.fitness)\n",
        "    s = s + \"Batch Size: {batch}\\n\" .format(batch = BATCH_SIZE[self.fittest.bt_size])\n",
        "\n",
        "    f.write(str(s))\n",
        "    f.write(\"--------------------------------------------------------\\n\")\n",
        "    f.close()"
      ],
      "execution_count": 11,
      "outputs": []
    },
    {
      "cell_type": "code",
      "metadata": {
        "id": "00ipjnkRW0TT",
        "outputId": "1dcf58fe-ea34-43de-d580-0fee198f0eae",
        "colab": {
          "base_uri": "https://localhost:8080/",
          "height": 180
        }
      },
      "source": [
        "# Population Size, Number of generations\n",
        "go = GeneticAlgorithm(10,100)"
      ],
      "execution_count": 1,
      "outputs": [
        {
          "output_type": "error",
          "ename": "NameError",
          "evalue": "ignored",
          "traceback": [
            "\u001b[0;31m---------------------------------------------------------------------------\u001b[0m",
            "\u001b[0;31mNameError\u001b[0m                                 Traceback (most recent call last)",
            "\u001b[0;32m<ipython-input-1-8bd3d276b6e9>\u001b[0m in \u001b[0;36m<module>\u001b[0;34m()\u001b[0m\n\u001b[1;32m      1\u001b[0m \u001b[0;31m# Population Size, Number of generations\u001b[0m\u001b[0;34m\u001b[0m\u001b[0;34m\u001b[0m\u001b[0;34m\u001b[0m\u001b[0m\n\u001b[0;32m----> 2\u001b[0;31m \u001b[0mgo\u001b[0m \u001b[0;34m=\u001b[0m \u001b[0mGeneticAlgorithm\u001b[0m\u001b[0;34m(\u001b[0m\u001b[0;36m10\u001b[0m\u001b[0;34m,\u001b[0m\u001b[0;36m100\u001b[0m\u001b[0;34m)\u001b[0m\u001b[0;34m\u001b[0m\u001b[0;34m\u001b[0m\u001b[0m\n\u001b[0m",
            "\u001b[0;31mNameError\u001b[0m: name 'GeneticAlgorithm' is not defined"
          ]
        }
      ]
    },
    {
      "cell_type": "code",
      "metadata": {
        "id": "CuVKEhDqW0Ke"
      },
      "source": [
        "plt.plot(VAL_LOSS_DATA)\n",
        "plt.title(\"Genetic Algorithm Fitness\")\n",
        "plt.xlabel('Generation')\n",
        "plt.ylabel(\"Validation Loss\")\n",
        "plt.show()"
      ],
      "execution_count": null,
      "outputs": []
    }
  ]
}